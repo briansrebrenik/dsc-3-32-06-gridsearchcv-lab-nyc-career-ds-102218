{
 "cells": [
  {
   "cell_type": "markdown",
   "metadata": {},
   "source": [
    "# GridSearchCV - Lab\n",
    "\n",
    "## Introduction\n",
    "\n",
    "In this lab, we'll explore how to use scikit-learn's `GridSearchCV` class to exhaustively search through every combination hyperparameters until we find the values for a given model.\n",
    "\n",
    "## Objectives\n",
    "\n",
    "You will be able to:\n",
    "\n",
    "* Understand and explain parameter tuning and why it is necessary \n",
    "* Design and create a parameter grid for use with sklearn's GridSearchCV module\n",
    "* Use GridSearchCV to increase model performance through parameter tuning\n",
    "\n",
    "\n",
    "## The Dataset\n",
    "\n",
    "For this lab, we'll be working with the [Wine Quality Dataset](https://archive.ics.uci.edu/ml/datasets/wine+quality) from the UCI Machine Learning Dataset Repository.  We'll be using data about the various features of wine to predict the quality of the wine on a scale from 1-10 stars, making this a multiclass classification problem.  \n",
    "\n",
    "### Getting Started\n",
    "\n",
    "Before we can begin GridSearching our way to optimal hyperparameters, we'll need to go through the basic steps of modeling.  This means that we'll need to:\n",
    "\n",
    "* Import and inspect the dataset (and clean, if necessary)\n",
    "* Split the data into training and testing sets\n",
    "* Build and fit a baseline model that we can compare against our GridSearch results.\n",
    "\n",
    "Run the cell below to import everything we'll need for this lab.  "
   ]
  },
  {
   "cell_type": "code",
   "execution_count": 1,
   "metadata": {},
   "outputs": [
    {
     "name": "stderr",
     "output_type": "stream",
     "text": [
      "/Users/briansrebrenik/anaconda3/lib/python3.6/site-packages/sklearn/cross_validation.py:41: DeprecationWarning: This module was deprecated in version 0.18 in favor of the model_selection module into which all the refactored classes and functions are moved. Also note that the interface of the new CV iterators are different from that of this module. This module will be removed in 0.20.\n",
      "  \"This module will be removed in 0.20.\", DeprecationWarning)\n"
     ]
    }
   ],
   "source": [
    "import pandas as pd\n",
    "import numpy as np\n",
    "import matplotlib.pyplot as plt\n",
    "%matplotlib inline\n",
    "import seaborn as sns\n",
    "from sklearn.model_selection import train_test_split, GridSearchCV\n",
    "from sklearn.preprocessing import StandardScaler\n",
    "from sklearn.cross_validation import cross_val_score\n",
    "from sklearn.tree import DecisionTreeClassifier\n",
    "from sklearn.ensemble import RandomForestClassifier, AdaBoostClassifier\n",
    "from sklearn.metrics import accuracy_score"
   ]
  },
  {
   "cell_type": "markdown",
   "metadata": {},
   "source": [
    "Now that we've imported all the necessary libraries and frameworks for this lab, we'll need to get the dataset.  \n",
    "\n",
    "Our data is stored in the file `winequality-red.csv`. Use pandas to import the data from this file and store it in a DataFrame.  Print the head to ensure that everything loaded correctly. "
   ]
  },
  {
   "cell_type": "code",
   "execution_count": 2,
   "metadata": {},
   "outputs": [
    {
     "data": {
      "text/html": [
       "<div>\n",
       "<style scoped>\n",
       "    .dataframe tbody tr th:only-of-type {\n",
       "        vertical-align: middle;\n",
       "    }\n",
       "\n",
       "    .dataframe tbody tr th {\n",
       "        vertical-align: top;\n",
       "    }\n",
       "\n",
       "    .dataframe thead th {\n",
       "        text-align: right;\n",
       "    }\n",
       "</style>\n",
       "<table border=\"1\" class=\"dataframe\">\n",
       "  <thead>\n",
       "    <tr style=\"text-align: right;\">\n",
       "      <th></th>\n",
       "      <th>fixed acidity</th>\n",
       "      <th>volatile acidity</th>\n",
       "      <th>citric acid</th>\n",
       "      <th>residual sugar</th>\n",
       "      <th>chlorides</th>\n",
       "      <th>free sulfur dioxide</th>\n",
       "      <th>total sulfur dioxide</th>\n",
       "      <th>density</th>\n",
       "      <th>pH</th>\n",
       "      <th>sulphates</th>\n",
       "      <th>alcohol</th>\n",
       "      <th>quality</th>\n",
       "    </tr>\n",
       "  </thead>\n",
       "  <tbody>\n",
       "    <tr>\n",
       "      <th>0</th>\n",
       "      <td>7.4</td>\n",
       "      <td>0.70</td>\n",
       "      <td>0.00</td>\n",
       "      <td>1.9</td>\n",
       "      <td>0.076</td>\n",
       "      <td>11.0</td>\n",
       "      <td>34.0</td>\n",
       "      <td>0.9978</td>\n",
       "      <td>3.51</td>\n",
       "      <td>0.56</td>\n",
       "      <td>9.4</td>\n",
       "      <td>5</td>\n",
       "    </tr>\n",
       "    <tr>\n",
       "      <th>1</th>\n",
       "      <td>7.8</td>\n",
       "      <td>0.88</td>\n",
       "      <td>0.00</td>\n",
       "      <td>2.6</td>\n",
       "      <td>0.098</td>\n",
       "      <td>25.0</td>\n",
       "      <td>67.0</td>\n",
       "      <td>0.9968</td>\n",
       "      <td>3.20</td>\n",
       "      <td>0.68</td>\n",
       "      <td>9.8</td>\n",
       "      <td>5</td>\n",
       "    </tr>\n",
       "    <tr>\n",
       "      <th>2</th>\n",
       "      <td>7.8</td>\n",
       "      <td>0.76</td>\n",
       "      <td>0.04</td>\n",
       "      <td>2.3</td>\n",
       "      <td>0.092</td>\n",
       "      <td>15.0</td>\n",
       "      <td>54.0</td>\n",
       "      <td>0.9970</td>\n",
       "      <td>3.26</td>\n",
       "      <td>0.65</td>\n",
       "      <td>9.8</td>\n",
       "      <td>5</td>\n",
       "    </tr>\n",
       "    <tr>\n",
       "      <th>3</th>\n",
       "      <td>11.2</td>\n",
       "      <td>0.28</td>\n",
       "      <td>0.56</td>\n",
       "      <td>1.9</td>\n",
       "      <td>0.075</td>\n",
       "      <td>17.0</td>\n",
       "      <td>60.0</td>\n",
       "      <td>0.9980</td>\n",
       "      <td>3.16</td>\n",
       "      <td>0.58</td>\n",
       "      <td>9.8</td>\n",
       "      <td>6</td>\n",
       "    </tr>\n",
       "    <tr>\n",
       "      <th>4</th>\n",
       "      <td>7.4</td>\n",
       "      <td>0.70</td>\n",
       "      <td>0.00</td>\n",
       "      <td>1.9</td>\n",
       "      <td>0.076</td>\n",
       "      <td>11.0</td>\n",
       "      <td>34.0</td>\n",
       "      <td>0.9978</td>\n",
       "      <td>3.51</td>\n",
       "      <td>0.56</td>\n",
       "      <td>9.4</td>\n",
       "      <td>5</td>\n",
       "    </tr>\n",
       "  </tbody>\n",
       "</table>\n",
       "</div>"
      ],
      "text/plain": [
       "   fixed acidity  volatile acidity  citric acid  residual sugar  chlorides  \\\n",
       "0            7.4              0.70         0.00             1.9      0.076   \n",
       "1            7.8              0.88         0.00             2.6      0.098   \n",
       "2            7.8              0.76         0.04             2.3      0.092   \n",
       "3           11.2              0.28         0.56             1.9      0.075   \n",
       "4            7.4              0.70         0.00             1.9      0.076   \n",
       "\n",
       "   free sulfur dioxide  total sulfur dioxide  density    pH  sulphates  \\\n",
       "0                 11.0                  34.0   0.9978  3.51       0.56   \n",
       "1                 25.0                  67.0   0.9968  3.20       0.68   \n",
       "2                 15.0                  54.0   0.9970  3.26       0.65   \n",
       "3                 17.0                  60.0   0.9980  3.16       0.58   \n",
       "4                 11.0                  34.0   0.9978  3.51       0.56   \n",
       "\n",
       "   alcohol  quality  \n",
       "0      9.4        5  \n",
       "1      9.8        5  \n",
       "2      9.8        5  \n",
       "3      9.8        6  \n",
       "4      9.4        5  "
      ]
     },
     "execution_count": 2,
     "metadata": {},
     "output_type": "execute_result"
    }
   ],
   "source": [
    "df = pd.read_csv('winequality-red.csv')\n",
    "df.head()"
   ]
  },
  {
   "cell_type": "markdown",
   "metadata": {},
   "source": [
    "Great! Let's inspect our data a bit.  In the cell below, perform some basic Exploratory Data Analysis on our dataset.  Get a feel for your data by exploring the descriptive statistics and creating at least 1 visualization to help you better understand this dataset."
   ]
  },
  {
   "cell_type": "code",
   "execution_count": 3,
   "metadata": {},
   "outputs": [
    {
     "data": {
      "text/plain": [
       "<matplotlib.axes._subplots.AxesSubplot at 0x10b6acba8>"
      ]
     },
     "execution_count": 3,
     "metadata": {},
     "output_type": "execute_result"
    },
    {
     "data": {
      "image/png": "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\n",
      "text/plain": [
       "<Figure size 432x288 with 1 Axes>"
      ]
     },
     "metadata": {},
     "output_type": "display_data"
    }
   ],
   "source": [
    "df.quality.hist()"
   ]
  },
  {
   "cell_type": "markdown",
   "metadata": {},
   "source": [
    "**_Question:_** Based on your findings during your Eploratory Data Analysis, do you think that we need to do any sort of preprocessing on this dataset? Why or why not?\n",
    "\n",
    "Write your answer below this line:\n",
    "________________________________________________________________________________________________________________________________\n",
    "\n",
    "\n",
    "### Preprocessing our Data\n",
    "\n",
    "Now, we'll perform any necessary preprocessing on our dataset before training our model.  We'll start by isolating the target variable that we are trying to predict.  In the cell below:\n",
    "\n",
    "* Store the data in the `quality` column inside the `labels` variable\n",
    "* Drop the `quality` column from the dataset"
   ]
  },
  {
   "cell_type": "code",
   "execution_count": 4,
   "metadata": {},
   "outputs": [],
   "source": [
    "labels = df['quality']\n",
    "labels_removed_df = df.drop(columns=['quality'])\n"
   ]
  },
  {
   "cell_type": "markdown",
   "metadata": {},
   "source": [
    "Now that we've isolated our labels, we'll need to normalize our dataset (also referred to as _scaling_).  \n",
    "\n",
    "In the cell below:\n",
    "\n",
    "* Create a `StandardScaler()` object.\n",
    "* Transform the data in `labels_removed_df` using the scaler object's `fit_transform()` method."
   ]
  },
  {
   "cell_type": "code",
   "execution_count": 5,
   "metadata": {},
   "outputs": [],
   "source": [
    "scaler = StandardScaler()\n",
    "scaled_df = scaler.fit_transform(labels_removed_df)"
   ]
  },
  {
   "cell_type": "markdown",
   "metadata": {},
   "source": [
    "### Training, Testing, and Cross Validation\n",
    "\n",
    "Normally, we would also split our data into training and testing sets.  However, since we'll be making use of **_Cross Validation_** when using `GridSearchCV`, we'll also want to make use of it with our baseline model to ensure that things are equal.  Recall that we do not need to split our data into training and testing sets when using cross validation, since the cross validation will take care of that for us.  \n",
    "\n",
    "### Creating a Baseline Model: Decision Trees\n",
    "\n",
    "In the cell below:\n",
    "* Create a `DecisionTreeClassifier` object.  \n",
    "* Get the `cross_val_score` for this model, with the `cv` parameter set to `3`.\n",
    "* Calculate and print the mean cross-validation score from our model.\n",
    "\n",
    "**_Note:_** If you need a refresher on how to use `cross_val_score`, check out the [documentation](http://scikit-learn.org/stable/modules/generated/sklearn.model_selection.cross_val_score.html)."
   ]
  },
  {
   "cell_type": "code",
   "execution_count": 6,
   "metadata": {},
   "outputs": [
    {
     "name": "stdout",
     "output_type": "stream",
     "text": [
      "Mean Cross Validation Score: 44.84%\n"
     ]
    }
   ],
   "source": [
    "dt_clf = DecisionTreeClassifier()\n",
    "dt_cv_score = cross_val_score(dt_clf, scaled_df, labels, cv=3)\n",
    "mean_dt_cv_score = np.mean(dt_cv_score)\n",
    "\n",
    "print(\"Mean Cross Validation Score: {:.4}%\".format(mean_dt_cv_score * 100))"
   ]
  },
  {
   "cell_type": "markdown",
   "metadata": {},
   "source": [
    "## Grid Search: Decision Trees\n",
    "\n",
    "Take a second to interpret the results of our cross-validation score.  How well did our model do? How does this compare to a naive baseline level of accuracy (random guessing)?\n",
    "\n",
    "Write your answer below this line:\n",
    "________________________________________________________________________________________________________________________________\n",
    "\n",
    "\n",
    "\n",
    "### Creating A Parameter Grid\n",
    "\n",
    "So far, our model has not have stellar performance. However, we've yet to modify the hyperparameters of the model.  Each dataset is different, and the chances that the best possible parameters for a given dataset also happen to be the default parameters set by by sklearn at instantiation is very low.  \n",
    "\n",
    "This means that we need to try **_Hyperparameter Tuning_**.  There are several strategies for searching for optimal hyperparameters--the one we'll be using, **_Combinatoric Grid Searching_**, is probably the most popular, because it performs an exhaustive search of all possible combinations.  \n",
    "\n",
    "The sklearn module we'll be using to accomplish this is `GridSearchCV`, which can be found inside of `sklearn.model_selection`.\n",
    "\n",
    "Take a minute to look at sklearn's user guide for [GridSearchCV](http://scikit-learn.org/stable/modules/grid_search.html#grid-search), and then complete the following task.\n",
    "\n",
    "In the cell below:\n",
    "\n",
    "* Complete the `param_grid` dictionary.  In this dictionary, each key represents a parameter we want to tune, whereas the corresponding value is an array of every parameter value we'd like to check for that parameter.  For instance, if we would like try out the values `2`, `5`, and `10` for `min_samples_split`, our `param_grid` dictionary would include `\"min_samples_split\": [2, 5, 10]`.\n",
    "* Normally, you would have to just try different values to search through for each parameter.  However, in order to limit the complexity of this lab, the parameters and values to search through have been provided for you.  You just need to turn them into key-value pairs inside of the `param_grid` dictionary. Complete `param_grid` so that it tests the following values for each corresponding parameter:\n",
    "    * For `\"criterion\"`, try values of `\"gini\"` and `\"entropy\"`.\n",
    "    * For `\"max_depth\"`, try `None`, as well as `2, 3, 4, 5` and `6`.\n",
    "    * For `min_samples_split`, try `2, 5`, and `10`.\n",
    "    * For `\"min_samples_leaf\"`, try `1, 2, 3, 4, 5` and `6`."
   ]
  },
  {
   "cell_type": "code",
   "execution_count": 7,
   "metadata": {},
   "outputs": [],
   "source": [
    "dt_param_grid = {\n",
    " 'criterion': ['gini', 'entropy'],\n",
    "    'max_depth': [None, 2, 3, 4, 5, 6],\n",
    "    'min_samples_split': [2,5, 10],\n",
    "    'min_samples_leaf': [1,2,3,4,5,6]\n",
    "}"
   ]
  },
  {
   "cell_type": "markdown",
   "metadata": {},
   "source": [
    "Now that we have our parameter grid set up, we can create and use our `GridSearchCV` object.  Before we do, let's briefly think about the particulars of this model. \n",
    "\n",
    "Grid Searching works by training a model on the data for each unique combination of parameters, and then returning the parameters of the model that performed best. In order to protect us from randomness, it is common to implement K-Fold Cross Validation during this step.  For this lab, we'll set K = 3, meaning that we'll actually train 3 different models for each unique combination of parameters.  \n",
    "\n",
    "Given our `param_grid` and the knowledge that we're going to use Cross Validation with a value of 3, how many different Decision Trees will our `GridSearchCV` object have to train in order to try every possible combination and find the best parameter choices?\n",
    "\n",
    "Calculate and print your answer in the cell below."
   ]
  },
  {
   "cell_type": "code",
   "execution_count": 8,
   "metadata": {},
   "outputs": [
    {
     "name": "stdout",
     "output_type": "stream",
     "text": [
      "Grid Search will have to search through 648 different permutations.\n"
     ]
    }
   ],
   "source": [
    "num_decision_trees = 2 * 6 * 3 * 6 *3\n",
    "print(\"Grid Search will have to search through {} different permutations.\".format(num_decision_trees))"
   ]
  },
  {
   "cell_type": "markdown",
   "metadata": {},
   "source": [
    "That's alot of Decision Trees! Decision Trees are generally pretty quick to train, but that isn't the case with every type of model we could want to tune.  Be aware that if you set a particularly large search space of parameters inside your parameter grid, then Grid Searching could potentially take a very long time. \n",
    "\n",
    "Let's create our `GridSearchCV` object and fit it.  In the cell below:\n",
    "* Create a `GridSearchCV` object.  Pass in our model, the parameter grid, and `cv=3` to tell the object to use 3-Fold Cross Validation. Also pass in `return`\n",
    "* Call our grid search object's `fit()` method and pass in our data and labels, just as if we were using regular cross validation.  \n",
    "* "
   ]
  },
  {
   "cell_type": "code",
   "execution_count": 9,
   "metadata": {},
   "outputs": [
    {
     "data": {
      "text/plain": [
       "GridSearchCV(cv=3, error_score='raise',\n",
       "       estimator=DecisionTreeClassifier(class_weight=None, criterion='gini', max_depth=None,\n",
       "            max_features=None, max_leaf_nodes=None,\n",
       "            min_impurity_decrease=0.0, min_impurity_split=None,\n",
       "            min_samples_leaf=1, min_samples_split=2,\n",
       "            min_weight_fraction_leaf=0.0, presort=False, random_state=None,\n",
       "            splitter='best'),\n",
       "       fit_params=None, iid=True, n_jobs=1,\n",
       "       param_grid={'criterion': ['gini', 'entropy'], 'max_depth': [None, 2, 3, 4, 5, 6], 'min_samples_split': [2, 5, 10], 'min_samples_leaf': [1, 2, 3, 4, 5, 6]},\n",
       "       pre_dispatch='2*n_jobs', refit=True, return_train_score=True,\n",
       "       scoring=None, verbose=0)"
      ]
     },
     "execution_count": 9,
     "metadata": {},
     "output_type": "execute_result"
    }
   ],
   "source": [
    "dt_grid_search = GridSearchCV(dt_clf, param_grid=dt_param_grid, cv=3, return_train_score=True)\n",
    "dt_grid_search.fit(scaled_df, labels)"
   ]
  },
  {
   "cell_type": "markdown",
   "metadata": {},
   "source": [
    "### Examining the Best Parameters\n",
    "\n",
    "Now that we have fit our model using Grid Search, we need to inspect it to discover the optimal combination of parameters.\n",
    "\n",
    "In the cell below:\n",
    "\n",
    "* Calculate the the mean training score.  An array of training score results can be found inside of the `.cv_results_` dictionary, with the key `mean_train_score`.\n",
    "* Calcuate the testing score using the our grid search model's `.score()` method by passing in our data and labels. \n",
    "* Examine the appropriate attribute to discover the best estimator parameters found during the grid search. \n",
    "\n",
    "**_HINT:_** If you're unsure what attribute this is stored in, take a look at sklearn's [GridSearchCV Documentation](http://scikit-learn.org/stable/modules/generated/sklearn.model_selection.GridSearchCV.html)."
   ]
  },
  {
   "cell_type": "code",
   "execution_count": 10,
   "metadata": {},
   "outputs": [
    {
     "name": "stdout",
     "output_type": "stream",
     "text": [
      "Mean Training Score: 67.15%\n",
      "Mean Testing Score: 66.04%\n",
      "Best Parameter Combination Found During Grid Search:\n"
     ]
    },
    {
     "data": {
      "text/plain": [
       "{'criterion': 'gini',\n",
       " 'max_depth': 5,\n",
       " 'min_samples_leaf': 6,\n",
       " 'min_samples_split': 5}"
      ]
     },
     "execution_count": 10,
     "metadata": {},
     "output_type": "execute_result"
    }
   ],
   "source": [
    "dt_gs_training_score = np.mean(dt_grid_search.cv_results_['mean_train_score'])\n",
    "dt_gs_testing_score = dt_grid_search.score(scaled_df, labels)\n",
    "\n",
    "print(\"Mean Training Score: {:.4}%\".format(dt_gs_training_score * 100))\n",
    "print(\"Mean Testing Score: {:.4}%\".format(dt_gs_testing_score * 100))\n",
    "print(\"Best Parameter Combination Found During Grid Search:\")\n",
    "dt_grid_search.best_params_"
   ]
  },
  {
   "cell_type": "markdown",
   "metadata": {},
   "source": [
    "**_Question:_** What effect, if any, did our parameter tuning have on model performance? Will GridSearchCV always discover a perfectly (global) optimal set of parameters? Why or why not?\n",
    "________________________________________________________________________________________________________________________________\n",
    "  \n",
    "\n",
    "### Tuning More Advanced Models: Random Forests\n",
    "\n",
    "Now that we have some experience with Grid Searching through parameter values for a Decision Tree Classifier, let's try our luck with a more advanced model and tune a _Random Forest Classifier_.  \n",
    "\n",
    "We'll start by repeating the same process we did for our Decision Tree Classifier, except with a Random Forest Classifier instead. \n",
    "\n",
    "In the cell below:\n",
    "* Create a `RandomForestClassifier` object.\n",
    "* Use Cross Validation with `cv=3` to generate a baseline score for this model type, so that we have something to compare our tuned model performance to. "
   ]
  },
  {
   "cell_type": "code",
   "execution_count": 11,
   "metadata": {},
   "outputs": [
    {
     "name": "stdout",
     "output_type": "stream",
     "text": [
      "Mean Cross Validation Score for Random Forest Classifier: 45.59%\n"
     ]
    }
   ],
   "source": [
    "rf_clf = RandomForestClassifier()\n",
    "rf_cv_score = cross_val_score(dt_clf, scaled_df, labels, cv=3)\n",
    "mean_rf_cv_score = np.mean(rf_cv_score)\n",
    "print(\"Mean Cross Validation Score for Random Forest Classifier: {:.4}%\".format(mean_rf_cv_score * 100))"
   ]
  },
  {
   "cell_type": "markdown",
   "metadata": {},
   "source": [
    "Now that we have our baseline score, we'll create a parameter grid specific to our Random Forest Classifier.  \n",
    "\n",
    "Again--in a real world situation, you will need to decide what parameters to tune, and be very thoughtful about what values to test for each parameter.  However, since this is a lab, we have provided the following table in the interest of simplicity.  Complete the `rf_param_grid` dictionary with the following key value pairs:\n",
    " \n",
    " \n",
    " |     Parameter     |         Values         |\n",
    "|:-----------------:|:----------------------:|\n",
    "|    n_estimators   |      [10, 30, 100]     |\n",
    "|     criterion     |   ['gini', 'entropy']  |\n",
    "|     max_depth     | [None, 2, 6, 10] |\n",
    "| min_samples_split |       [5, 10]       |\n",
    "|  min_samples_leaf |   [3, 6]   |"
   ]
  },
  {
   "cell_type": "code",
   "execution_count": 12,
   "metadata": {},
   "outputs": [],
   "source": [
    "rf_param_grid = {\n",
    "    'n_estimators': [10,30, 100],\n",
    "    'criterion': ['gini', 'entropy'],\n",
    "    'max_depth': [None, 2, 6, 10],\n",
    "    'min_samples_split': [5, 10],\n",
    "    'min_samples_leaf': [3, 6]\n",
    "}"
   ]
  },
  {
   "cell_type": "markdown",
   "metadata": {},
   "source": [
    "Great! Now that we have our parameter grid, we can grid search through it with our Random Forest. \n",
    "\n",
    "In the cell below, follow the process we used with Decision Trees above to grid search for the best parameters for our Random Forest Classifier.  \n",
    "\n",
    "When creating your `GridSearchCV` object,  pass in:\n",
    "* our Random Forest Classifier\n",
    "* The parameter grid for our Random Forest Classifier\n",
    "* `cv=3` \n",
    "* **_Do not_** pass in `return_train_score` as we did with our Decision Trees example above.  In the interest of runtime, we'll only worry about testing accuracy this time. \n",
    "\n",
    "\n",
    "**_NOTE:_** The runtime on the following cell will be over a minute on most computers.  "
   ]
  },
  {
   "cell_type": "code",
   "execution_count": 13,
   "metadata": {},
   "outputs": [
    {
     "name": "stdout",
     "output_type": "stream",
     "text": [
      "Testing Accuracy: 58.79%\n",
      "Total Runtime for Grid Search on Random Forest Classifier: 48.82 seconds\n",
      "\n",
      "Optimal Parameters: {'criterion': 'entropy', 'max_depth': 6, 'min_samples_leaf': 6, 'min_samples_split': 5, 'n_estimators': 100}\n"
     ]
    }
   ],
   "source": [
    "import time\n",
    "start = time.time()\n",
    "rf_grid_search = GridSearchCV(rf_clf, rf_param_grid, cv=3)\n",
    "rf_grid_search.fit(scaled_df, labels)\n",
    "\n",
    "print(\"Testing Accuracy: {:.4}%\".format(rf_grid_search.best_score_ * 100))\n",
    "print(\"Total Runtime for Grid Search on Random Forest Classifier: {:.4} seconds\".format(time.time() - start))\n",
    "print(\"\")\n",
    "print(\"Optimal Parameters: {}\".format(rf_grid_search.best_params_))"
   ]
  },
  {
   "cell_type": "markdown",
   "metadata": {},
   "source": [
    "### Interpreting Our Results\n",
    "\n",
    "Did tuning the hyperparameters of our Random Forest Classifier improve model performance? Is this performance increase significant? Which model did better? If you had to choose, which model would you put into production? Explain your answer. \n",
    "\n",
    "Write your answer below this line:\n",
    "________________________________________________________________________________________________________________________________\n",
    "\n",
    "\n",
    "### Tuning Gradient Boosted Trees (AdaBoost)\n",
    "\n",
    "The last model we'll tune in this lab is an AdaBoost Classifier, although tuning this model will generally be similar to tuning other forms of Gradient Boosted Tree (GBT) models.  \n",
    "\n",
    "In the cell below, create an AdaBoost Classifier Object.  Then, as we did with the previous two examples, fit the model using using Cross Validation to get a baseline testing accuracy so we can see how an untuned AdaBoost model performs on this task.  "
   ]
  },
  {
   "cell_type": "code",
   "execution_count": 14,
   "metadata": {},
   "outputs": [
    {
     "name": "stdout",
     "output_type": "stream",
     "text": [
      "Mean Cross Validation Score for AdaBoost: 45.53%\n"
     ]
    }
   ],
   "source": [
    "adaboost_clf = AdaBoostClassifier()\n",
    "adaboost_mean_cv_score = np.mean(cross_val_score(dt_clf, scaled_df, labels, cv=3))\n",
    "\n",
    "print(\"Mean Cross Validation Score for AdaBoost: {:.4}%\".format(adaboost_mean_cv_score * 100))"
   ]
  },
  {
   "cell_type": "markdown",
   "metadata": {},
   "source": [
    "Great! Now, onto creating the parameter grid for AdaBoost.  \n",
    "\n",
    "Complete the `adaboost_param_grid` dictionary by adding in the following key-value pairs:\n",
    "\n",
    "|   Parameters  |      Values     |\n",
    "|:-------------:|:---------------:|\n",
    "|  n_estimators |  [50, 100, 250] |\n",
    "| learning_rate | [1.0, 0.5, 0.1] |"
   ]
  },
  {
   "cell_type": "code",
   "execution_count": 15,
   "metadata": {},
   "outputs": [],
   "source": [
    "adaboost_param_grid = {\n",
    "    'n_estimators': [50,100,250],\n",
    "    'learning_rate': [1, .5, .1]\n",
    "    \n",
    "}"
   ]
  },
  {
   "cell_type": "markdown",
   "metadata": {},
   "source": [
    "Great.  Now, for the finale--use Grid Search to find optimal parameters for AdaBoost, and see how the model performs overall!"
   ]
  },
  {
   "cell_type": "code",
   "execution_count": 17,
   "metadata": {},
   "outputs": [
    {
     "name": "stdout",
     "output_type": "stream",
     "text": [
      "Testing Accuracy: 56.6%\n",
      "Total Runtime for Grid Search on AdaBoost: 13.88 seconds\n",
      "\n",
      "Optimal Parameters: {'learning_rate': 0.1, 'n_estimators': 100}\n"
     ]
    }
   ],
   "source": [
    "start = time.time()\n",
    "\n",
    "adaboost_grid_search = GridSearchCV(adaboost_clf, adaboost_param_grid, cv=3)\n",
    "\n",
    "adaboost_grid_search.fit(scaled_df, labels)\n",
    "\n",
    "print(\"Testing Accuracy: {:.4}%\".format(adaboost_grid_search.best_score_ * 100))\n",
    "print(\"Total Runtime for Grid Search on AdaBoost: {:.4} seconds\".format(time.time() - start))\n",
    "print(\"\")\n",
    "print(\"Optimal Parameters: {}\".format(adaboost_grid_search.best_params_))"
   ]
  },
  {
   "cell_type": "markdown",
   "metadata": {},
   "source": [
    "## Summary\n",
    "\n",
    "In this lab, we learned:\n",
    "\n",
    "* How to iteratively search for optimal model parameters using `GridSearhCV`\n",
    "* How to tune model parameters for Decision Trees, Random Forests, and AdaBoost models. "
   ]
  }
 ],
 "metadata": {
  "kernelspec": {
   "display_name": "Python 3",
   "language": "python",
   "name": "python3"
  },
  "language_info": {
   "codemirror_mode": {
    "name": "ipython",
    "version": 3
   },
   "file_extension": ".py",
   "mimetype": "text/x-python",
   "name": "python",
   "nbconvert_exporter": "python",
   "pygments_lexer": "ipython3",
<<<<<<< HEAD
   "version": "3.6.5"
=======
   "version": "3.6.6"
>>>>>>> 0f6e4816f4da93b89f612768f07b4722939a50bd
  }
 },
 "nbformat": 4,
 "nbformat_minor": 2
}
